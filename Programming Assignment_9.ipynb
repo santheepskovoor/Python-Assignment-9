{
 "cells": [
  {
   "cell_type": "markdown",
   "metadata": {},
   "source": [
    "## Programming Assignment_9\n",
    "----------------"
   ]
  },
  {
   "cell_type": "markdown",
   "metadata": {},
   "source": [
    "### 1. Write a Python program to check if the given number is a Disarium Number?"
   ]
  },
  {
   "cell_type": "code",
   "execution_count": 14,
   "metadata": {},
   "outputs": [
    {
     "name": "stdout",
     "output_type": "stream",
     "text": [
      "Enter the number:667\n",
      "Not an Disarium Number!\n"
     ]
    }
   ],
   "source": [
    "# Ask user to enter the input\n",
    "number = input(\"Enter the number:\")\n",
    "# find the length of the number.Then make a copy of the numberain integer format\n",
    "len_n = len(number)\n",
    "number=int(number)\n",
    "copy_n=number\n",
    "#Make a result variable 0 and ineriator i set to the length of the entered number\n",
    "result = 0\n",
    "i = len_n\n",
    "# Use while loop to traverse through the number by each digit\n",
    "while(number!=0):\n",
    "    digit = number%10\n",
    "#On each iteration, increment result by digit raised to the power of the iterator\n",
    "    result=result+pow(digit,i)\n",
    "    number=int(number/10)\n",
    "#Decrement iterator on every traversal\n",
    "    i = i - 1\n",
    "#we can check the value of the iteriator every transversal\n",
    "if(result==copy_n):\n",
    "    print(\"Disarium Number!\")\n",
    "else:\n",
    "    print(\"Not an Disarium Number!\")"
   ]
  },
  {
   "cell_type": "markdown",
   "metadata": {},
   "source": [
    "### 2. Write a Python program to print all disarium numbers between 1 to 100?"
   ]
  },
  {
   "cell_type": "code",
   "execution_count": 30,
   "metadata": {},
   "outputs": [
    {
     "name": "stdout",
     "output_type": "stream",
     "text": [
      "Disarium numbers between 1 to 100 are: \n",
      "1\n",
      "2\n",
      "3\n",
      "4\n",
      "5\n",
      "6\n",
      "7\n",
      "8\n",
      "9\n",
      "89\n"
     ]
    }
   ],
   "source": [
    "#The count of total digits calculated by calculateLength()\n",
    "def calculateLength(number):  \n",
    "    length = 0;  \n",
    "    while(number != 0):  \n",
    "        length = length + 1;  \n",
    "        number = number//10;  \n",
    "    return length;    \n",
    "#The sum of digits can be calculated by by sum Of Digits() powered with their respective position\n",
    "def sumOfDigits(num):  \n",
    "    rem = sum = 0;  \n",
    "    len = calculateLength(num);       \n",
    "    while(num > 0):  \n",
    "        rem = num%10;  \n",
    "        sum = sum + (rem**len);  \n",
    "        num = num//10;  \n",
    "        len = len - 1;  \n",
    "    return sum;   \n",
    "result = 0;  \n",
    "#results the disarium numbers between 1 to 100  \n",
    "print(\"Disarium numbers between 1 to 100 are: \");  \n",
    "for i in range(1, 101):  \n",
    "    result = sumOfDigits(i);       \n",
    "    if(result ==i):  \n",
    "        print(i)"
   ]
  },
  {
   "cell_type": "markdown",
   "metadata": {},
   "source": [
    "### 3. Write a Python program to check if the given number is Happy Number?"
   ]
  },
  {
   "cell_type": "code",
   "execution_count": 8,
   "metadata": {},
   "outputs": [
    {
     "name": "stdout",
     "output_type": "stream",
     "text": [
      "Enter the number281281929\n",
      "281281929 is not a happy number\n"
     ]
    }
   ],
   "source": [
    "#HappyNumber() will determine whether a number is happy or not    \n",
    "def HappyNumber(num):    \n",
    "    rem = sum = 0;    \n",
    "        \n",
    "#Calculates the sum of squares of digits    \n",
    "    while(num > 0):    \n",
    "        rem = num%10;    \n",
    "        sum = sum + (rem*rem);    \n",
    "        num = num//10;    \n",
    "    return sum;    \n",
    "#Ask use to enter the number\n",
    "num = int(input(\"Enter the number\"));    \n",
    "result = num;    \n",
    "     \n",
    "while(result != 1 and result != 4):    \n",
    "    result = HappyNumber(result);    \n",
    "     \n",
    "#Happy number always ends with 1,so \n",
    "if(result == 1):    \n",
    "    print(str(num) + \" is a happy number\");    \n",
    "#Unhappy number ends in a cycle of repeating numbers which contain 4    \n",
    "elif(result == 4):    \n",
    "    print(str(num) + \" is not a happy number\");  "
   ]
  },
  {
   "cell_type": "markdown",
   "metadata": {},
   "source": [
    "### 4. Write a Python program to print all happy numbers between 1 and 100?"
   ]
  },
  {
   "cell_type": "code",
   "execution_count": 10,
   "metadata": {},
   "outputs": [
    {
     "name": "stdout",
     "output_type": "stream",
     "text": [
      "List of happy numbers between 1 and 100: \n",
      "1\n",
      "\n",
      "7\n",
      "\n",
      "10\n",
      "\n",
      "13\n",
      "\n",
      "19\n",
      "\n",
      "23\n",
      "\n",
      "28\n",
      "\n",
      "31\n",
      "\n",
      "32\n",
      "\n",
      "44\n",
      "\n",
      "49\n",
      "\n",
      "68\n",
      "\n",
      "70\n",
      "\n",
      "79\n",
      "\n",
      "82\n",
      "\n",
      "86\n",
      "\n",
      "91\n",
      "\n",
      "94\n",
      "\n",
      "97\n",
      "\n",
      "100\n",
      "\n"
     ]
    }
   ],
   "source": [
    "#A UDF will determinne the number will be happy number or not\n",
    "def HappyNumber(num):    \n",
    "    rem = sum = 0;        \n",
    "#Calculating the sum of squares of digits    \n",
    "    while(num > 0):    \n",
    "        rem = num%10;    \n",
    "        sum = sum + (rem*rem);    \n",
    "        num = num//10;    \n",
    "    return sum;     \n",
    "#Displays all happy numbers between 1 and 100    \n",
    "print(\"List of happy numbers between 1 and 100: \");    \n",
    "for i in range(1, 101):    \n",
    "    result = i;          \n",
    "#Happy number always ends with 1 and     \n",
    "#unhappy number ends in a cycle of repeating numbers which contains 4    \n",
    "    while(result != 1 and result != 4):    \n",
    "        result = HappyNumber(result);     \n",
    "    if(result == 1):    \n",
    "        print(i),    \n",
    "        print(\"\")"
   ]
  },
  {
   "cell_type": "markdown",
   "metadata": {},
   "source": [
    "### 5. Write a Python program to determine whether the given number is a Harshad Number?"
   ]
  },
  {
   "cell_type": "code",
   "execution_count": 17,
   "metadata": {},
   "outputs": [
    {
     "name": "stdout",
     "output_type": "stream",
     "text": [
      "99 is not a harshad number\n"
     ]
    }
   ],
   "source": [
    "# set the number 99 =num\n",
    "num = 99;    \n",
    "# pass rem=sum=0\n",
    "rem = sum = 0;    \n",
    "#A copy of num can be made as a \n",
    "a = num;    \n",
    "     \n",
    "#Now we can Calculates the total sum of digits by using while loop   \n",
    "while(num > 0):    \n",
    "    rem = num%10;    \n",
    "    sum = sum + rem;    \n",
    "    num = num//10;    \n",
    "     \n",
    "#Now we can check the number a  ican be divide by the total sum of digits and make the statement accordingly by using print    \n",
    "if(a%sum == 0):    \n",
    "    print(str(a) + \" is a harshad number\");    \n",
    "else:    \n",
    "    print(str(a) + \" is not a harshad number\")"
   ]
  },
  {
   "cell_type": "markdown",
   "metadata": {},
   "source": [
    "### 6. Write a Python program to print all pronic numbers between 1 and 100?"
   ]
  },
  {
   "cell_type": "code",
   "execution_count": 34,
   "metadata": {},
   "outputs": [
    {
     "name": "stdout",
     "output_type": "stream",
     "text": [
      "Pronic numbers between 1 and 100: \n",
      "2\n",
      " \n",
      "6\n",
      " \n",
      "12\n",
      " \n",
      "20\n",
      " \n",
      "30\n",
      " \n",
      "42\n",
      " \n",
      "56\n",
      " \n",
      "72\n",
      " \n",
      "90\n",
      " \n"
     ]
    }
   ],
   "source": [
    "#UDF -PronicNumber() will determine whether a given number is a pronic number or not    \n",
    "def PronicNumber(num):    \n",
    "    flag = False;           \n",
    "    for j in range(1, num+1):    \n",
    "#Evaluate pronic number by multiplying consecutive numbers   by using if statement \n",
    "        if((j*(j+1)) == num):    \n",
    "            flag = True;    \n",
    "            break;    \n",
    "    return flag;         \n",
    "#Show the pronic numbers between 1 and 100  by using a for loop  \n",
    "print(\"pronic numbers between 1 and 100: \");    \n",
    "for i in range(1, 101):    \n",
    "    if(PronicNumber(i)):    \n",
    "        print(i),    \n",
    "        print(\" \")"
   ]
  }
 ],
 "metadata": {
  "kernelspec": {
   "display_name": "Python 3",
   "language": "python",
   "name": "python3"
  },
  "language_info": {
   "codemirror_mode": {
    "name": "ipython",
    "version": 3
   },
   "file_extension": ".py",
   "mimetype": "text/x-python",
   "name": "python",
   "nbconvert_exporter": "python",
   "pygments_lexer": "ipython3",
   "version": "3.8.5"
  }
 },
 "nbformat": 4,
 "nbformat_minor": 5
}
